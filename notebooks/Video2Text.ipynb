{
 "cells": [
  {
   "cell_type": "code",
   "execution_count": null,
   "metadata": {},
   "outputs": [],
   "source": [
    "from google.cloud import storage\n",
    "client = storage.Client()\n",
    "bucket = client.bucket('your-bucket-name')\n",
    "blob = bucket.blob('path/to/video.mp4')\n",
    "blob.upload_from_filename('local/path/to/video.mp4')\n"
   ]
  },
  {
   "cell_type": "code",
   "execution_count": null,
   "metadata": {},
   "outputs": [],
   "source": [
    "from google.cloud import videointelligence_v1 as videointelligence\n",
    "video_client = videointelligence.VideoIntelligenceServiceClient()\n",
    "\n",
    "features = [videointelligence.Feature.SPEECH_TRANSCRIPTION, videointelligence.Feature.LABEL_DETECTION]\n",
    "\n",
    "operation = video_client.annotate_video(\n",
    "    request={\n",
    "        'features': features,\n",
    "        'input_uri': 'gs://your-bucket-name/path/to/video.mp4',\n",
    "        'video_context': {\n",
    "            'speech_transcription_config': {\n",
    "                'language_code': 'en-US'\n",
    "            }\n",
    "        }\n",
    "    }\n",
    ")\n"
   ]
  },
  {
   "cell_type": "code",
   "execution_count": null,
   "metadata": {},
   "outputs": [],
   "source": [
    "result = operation.result(timeout=300)\n",
    "\n",
    "# Procesar la transcripción\n",
    "for annotation_result in result.annotation_results:\n",
    "    for speech_transcription in annotation_result.speech_transcriptions:\n",
    "        for alternative in speech_transcription.alternatives:\n",
    "            print(f'Transcript: {alternative.transcript}')\n",
    "            for word_info in alternative.words:\n",
    "                start_time = word_info.start_time.total_seconds()\n",
    "                end_time = word_info.end_time.total_seconds()\n",
    "                print(f'Word: {word_info.word}, start_time: {start_time}, end_time: {end_time}')\n",
    "\n",
    "# Procesar etiquetas y marcas de tiempo\n",
    "for annotation_result in result.annotation_results:\n",
    "    for label_annotation in annotation_result.segment_label_annotations:\n",
    "        for segment in label_annotation.segments:\n",
    "            start_time = segment.segment.start_time_offset.total_seconds()\n",
    "            end_time = segment.segment.end_time_offset.total_seconds()\n",
    "            print(f'Label: {label_annotation.entity.description}, start_time: {start_time}, end_time: {end_time}')\n"
   ]
  }
 ],
 "metadata": {
  "language_info": {
   "name": "python"
  }
 },
 "nbformat": 4,
 "nbformat_minor": 2
}
